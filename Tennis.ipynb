{
 "cells": [
  {
   "cell_type": "markdown",
   "metadata": {},
   "source": [
    "# Collaboration and Competition\n",
    "\n",
    "---\n",
    "\n",
    "You are welcome to use this coding environment to train your agent for the project.  Follow the instructions below to get started!\n",
    "\n",
    "### 1. Start the Environment\n"
   ]
  },
  {
   "cell_type": "markdown",
   "metadata": {},
   "source": [
    "The environment is already saved in the Workspace and can be accessed at the file path provided below. "
   ]
  },
  {
   "cell_type": "code",
   "execution_count": 1,
   "metadata": {},
   "outputs": [
    {
     "name": "stderr",
     "output_type": "stream",
     "text": [
      "INFO:unityagents:\n",
      "'Academy' started successfully!\n",
      "Unity Academy name: Academy\n",
      "        Number of Brains: 1\n",
      "        Number of External Brains : 1\n",
      "        Lesson number : 0\n",
      "        Reset Parameters :\n",
      "\t\t\n",
      "Unity brain name: TennisBrain\n",
      "        Number of Visual Observations (per agent): 0\n",
      "        Vector Observation space type: continuous\n",
      "        Vector Observation space size (per agent): 8\n",
      "        Number of stacked Vector Observation: 3\n",
      "        Vector Action space type: continuous\n",
      "        Vector Action space size (per agent): 2\n",
      "        Vector Action descriptions: , \n"
     ]
    }
   ],
   "source": [
    "%load_ext autoreload\n",
    "%autoreload 2\n",
    "\n",
    "import itertools\n",
    "from unityagents import UnityEnvironment\n",
    "import numpy as np\n",
    "import pandas as pd\n",
    "import torch\n",
    "from collections import namedtuple, deque\n",
    "\n",
    "#env = UnityEnvironment(file_name=\"Tennis_Windows_x86_64/Tennis.exe\")\n",
    "env = UnityEnvironment(file_name=\"Tennis_Linux_NoVis/Tennis.x86_64\")"
   ]
  },
  {
   "cell_type": "markdown",
   "metadata": {},
   "source": [
    "Environments contain **_brains_** which are responsible for deciding the actions of their associated agents. Here we check for the first brain available, and set it as the default brain we will be controlling from Python."
   ]
  },
  {
   "cell_type": "code",
   "execution_count": 2,
   "metadata": {},
   "outputs": [],
   "source": [
    "# get the default brain\n",
    "brain_name = env.brain_names[0]\n",
    "brain = env.brains[brain_name]"
   ]
  },
  {
   "cell_type": "markdown",
   "metadata": {},
   "source": [
    "### 2. Examine the State and Action Spaces\n",
    "\n",
    "Run the code cell below to print some information about the environment."
   ]
  },
  {
   "cell_type": "code",
   "execution_count": 3,
   "metadata": {},
   "outputs": [
    {
     "name": "stdout",
     "output_type": "stream",
     "text": [
      "Number of agents: 2\n",
      "Size of each action: 2\n",
      "There are 2 agents. Each observes a state with length: 24\n",
      "The state for the first agent looks like: [ 0.          0.          0.          0.          0.          0.\n",
      "  0.          0.          0.          0.          0.          0.\n",
      "  0.          0.          0.          0.         -6.65278625 -1.5\n",
      " -0.          0.          6.83172083  6.         -0.          0.        ]\n"
     ]
    }
   ],
   "source": [
    "# reset the environment\n",
    "env_info = env.reset(train_mode=True)[brain_name]\n",
    "\n",
    "# number of agents \n",
    "num_agents = len(env_info.agents)\n",
    "print('Number of agents:', num_agents)\n",
    "\n",
    "# size of each action\n",
    "action_size = brain.vector_action_space_size\n",
    "print('Size of each action:', action_size)\n",
    "\n",
    "# examine the state space \n",
    "states = env_info.vector_observations\n",
    "state_size = states.shape[1]\n",
    "print('There are {} agents. Each observes a state with length: {}'.format(states.shape[0], state_size))\n",
    "print('The state for the first agent looks like:', states[0])"
   ]
  },
  {
   "cell_type": "markdown",
   "metadata": {},
   "source": [
    "### 3. Train"
   ]
  },
  {
   "cell_type": "code",
   "execution_count": 7,
   "metadata": {
    "scrolled": false
   },
   "outputs": [
    {
     "name": "stdout",
     "output_type": "stream",
     "text": [
      "Episode 100\tAvg Left Score: 0.003\tAvg Right Score: -0.004\tAvg Max Score: 0.009\tLast Score: 0.000\n",
      "Episode 200\tAvg Left Score: 0.019\tAvg Right Score: 0.015\tAvg Max Score: 0.040\tLast Score: 0.1000\n",
      "Episode 300\tAvg Left Score: 0.042\tAvg Right Score: 0.050\tAvg Max Score: 0.082\tLast Score: 0.090\n",
      "Episode 400\tAvg Left Score: 0.053\tAvg Right Score: 0.055\tAvg Max Score: 0.093\tLast Score: 0.100\n",
      "Episode 500\tAvg Left Score: 0.055\tAvg Right Score: 0.050\tAvg Max Score: 0.096\tLast Score: 0.090\n",
      "Episode 600\tAvg Left Score: 0.054\tAvg Right Score: 0.037\tAvg Max Score: 0.096\tLast Score: 0.100\n",
      "Episode 700\tAvg Left Score: 0.061\tAvg Right Score: 0.076\tAvg Max Score: 0.101\tLast Score: 0.100\n",
      "Episode 800\tAvg Left Score: 0.285\tAvg Right Score: 0.287\tAvg Max Score: 0.306\tLast Score: 0.100\n",
      "Episode 900\tAvg Left Score: 0.718\tAvg Right Score: 0.736\tAvg Max Score: 0.764\tLast Score: 0.200\n",
      "Episode 1000\tAvg Left Score: 1.068\tAvg Right Score: 1.074\tAvg Max Score: 1.102\tLast Score: 2.100\n",
      "Episode 1100\tAvg Left Score: 1.813\tAvg Right Score: 1.824\tAvg Max Score: 1.847\tLast Score: 0.600\n",
      "Episode 1200\tAvg Left Score: 1.657\tAvg Right Score: 1.655\tAvg Max Score: 1.676\tLast Score: 2.600\n",
      "Episode 1300\tAvg Left Score: 1.929\tAvg Right Score: 1.930\tAvg Max Score: 1.952\tLast Score: 0.000\n",
      "Episode 1400\tAvg Left Score: 1.806\tAvg Right Score: 1.810\tAvg Max Score: 1.830\tLast Score: 2.600\n",
      "Episode 1500\tAvg Left Score: 1.898\tAvg Right Score: 1.896\tAvg Max Score: 1.918\tLast Score: 0.100\n",
      "Episode 1600\tAvg Left Score: 1.672\tAvg Right Score: 1.671\tAvg Max Score: 1.692\tLast Score: 2.600\n",
      "Episode 1700\tAvg Left Score: 1.822\tAvg Right Score: 1.823\tAvg Max Score: 1.842\tLast Score: 2.600\n",
      "Episode 1800\tAvg Left Score: 1.431\tAvg Right Score: 1.432\tAvg Max Score: 1.454\tLast Score: 1.400\n",
      "Episode 1900\tAvg Left Score: 1.943\tAvg Right Score: 1.948\tAvg Max Score: 1.971\tLast Score: 2.600\n",
      "Episode 2000\tAvg Left Score: 1.703\tAvg Right Score: 1.690\tAvg Max Score: 1.722\tLast Score: 0.100\n"
     ]
    }
   ],
   "source": [
    "from ddpg_agent import Agent \n",
    "\n",
    "agent = Agent(state_size=state_size, action_size=action_size, random_seed=10)\n",
    "\n",
    "def ddpg(n_episodes=2000, max_t=1000):\n",
    "    left_scores_deque = deque(maxlen=100)\n",
    "    left_scores = []\n",
    "    right_scores_deque = deque(maxlen=100)\n",
    "    right_scores = []\n",
    "    max_scores_deque = deque(maxlen=100)\n",
    "    max_scores = []\n",
    "\n",
    "    for i_episode in range(1, n_episodes+1):\n",
    "        env_info = env.reset(train_mode=True)[brain_name] \n",
    "        states = env_info.vector_observations\n",
    "        agent.reset()\n",
    "        left_score = 0\n",
    "        right_score = 0\n",
    "        for i in range(1, max_t):\n",
    "            \n",
    "            actions = agent.act(states)\n",
    "            actions = np.clip(actions, -1, 1) \n",
    "            env_info = env.step(actions)[brain_name]           # send all actions to tne environment\n",
    "            next_states = env_info.vector_observations         # get next state (for each agent)\n",
    "            rewards = env_info.rewards                        # get reward (for each agent)\n",
    "            dones = env_info.local_done                        # see if episode finished\n",
    "\n",
    "            left_score += rewards[0]\n",
    "            right_score+= rewards[1]\n",
    "            \n",
    "            \n",
    "            agent.step(states[0], actions[0], rewards[0], next_states[0], dones[0])\n",
    "            agent.step(states[1], actions[1], rewards[1], next_states[1], dones[1])\n",
    "\n",
    "            states = next_states\n",
    "            \n",
    "            if np.any(dones):\n",
    "                break\n",
    "\n",
    "        left_scores_deque.append(left_score)\n",
    "        left_scores.append(left_score)\n",
    "        right_scores_deque.append(right_score)\n",
    "        right_scores.append(right_score)\n",
    "        max_score = max(left_score, right_score)\n",
    "        max_scores_deque.append(max_score)\n",
    "        max_scores.append(max_score)\n",
    "        print('\\rEpisode {}\\tAvg Left Score: {:.3f}\\tAvg Right Score: {:.3f}\\tAvg Max Score: {:.3f}\\tLast Score: {:.3f}'\n",
    "             .format(i_episode, np.mean(left_scores_deque), np.mean(right_scores_deque), np.mean(max_scores_deque), max_score ), end=\"\")\n",
    "        if i_episode % 100 == 0:\n",
    "            torch.save(agent.actor_local.state_dict(), 'checkpoint_actor_e%s.pth' % i_episode)\n",
    "            torch.save(agent.critic_local.state_dict(), 'checkpoint_critic_e%s.pth' % i_episode)\n",
    "\n",
    "            print('\\rEpisode {}\\tAvg Left Score: {:.3f}\\tAvg Right Score: {:.3f}\\tAvg Max Score: {:.3f}'\n",
    "                   .format(i_episode, np.mean(left_scores_deque), np.mean(right_scores_deque), np.mean(max_scores_deque)))\n",
    "    return max_scores\n",
    "\n",
    "scores = ddpg()"
   ]
  },
  {
   "cell_type": "code",
   "execution_count": 8,
   "metadata": {},
   "outputs": [],
   "source": [
    "data = pd.DataFrame({'score': scores})\n",
    "data.to_csv('scores.csv', sep='\\t', index=False, header=True)"
   ]
  },
  {
   "cell_type": "markdown",
   "metadata": {},
   "source": [
    "### 4. Test Model"
   ]
  },
  {
   "cell_type": "code",
   "execution_count": 9,
   "metadata": {},
   "outputs": [
    {
     "name": "stdout",
     "output_type": "stream",
     "text": [
      "Episode 100\tAverage Score: 2.578"
     ]
    }
   ],
   "source": [
    "agent = Agent(state_size=state_size, action_size=action_size, random_seed=10)\n",
    "agent.actor_local.load_state_dict(torch.load('checkpoint_actor_e1900.pth'))\n",
    "agent.critic_local.load_state_dict(torch.load('checkpoint_critic_e1900.pth'))\n",
    "\n",
    "scores = []\n",
    "\n",
    "for i_episode in range(1, 101):\n",
    "    env_info = env.reset(train_mode=True)[brain_name]\n",
    "    states = env_info.vector_observations\n",
    "    score = np.zeros(2)\n",
    "    for t in range(2000):\n",
    "        actions = agent.act(states, False)\n",
    "        actions = np.clip(actions, -1, 1)    \n",
    "        env_info = env.step(actions)[brain_name]           # send all actions to tne environment\n",
    "        states = env_info.vector_observations              # get next state (for each agent)\n",
    "        rewards = env_info.rewards                         # get reward (for each agent)\n",
    "        dones = env_info.local_done                        # see if episode finished\n",
    "        score += rewards        \n",
    "                \n",
    "        if np.all(dones):\n",
    "            break\n",
    "    scores.append(np.max(score))       # save most recent score\n",
    "    \n",
    "    print('\\rEpisode {}\\tAverage Score: {:.3f}'.format(i_episode, np.mean(scores)), end=\"\")"
   ]
  },
  {
   "cell_type": "markdown",
   "metadata": {},
   "source": [
    "When finished, you can close the environment."
   ]
  },
  {
   "cell_type": "code",
   "execution_count": null,
   "metadata": {},
   "outputs": [],
   "source": [
    "env.close()"
   ]
  },
  {
   "cell_type": "code",
   "execution_count": null,
   "metadata": {},
   "outputs": [],
   "source": []
  }
 ],
 "metadata": {
  "kernelspec": {
   "display_name": "Python 3",
   "language": "python",
   "name": "python3"
  },
  "language_info": {
   "codemirror_mode": {
    "name": "ipython",
    "version": 3
   },
   "file_extension": ".py",
   "mimetype": "text/x-python",
   "name": "python",
   "nbconvert_exporter": "python",
   "pygments_lexer": "ipython3",
   "version": "3.6.14"
  }
 },
 "nbformat": 4,
 "nbformat_minor": 2
}
