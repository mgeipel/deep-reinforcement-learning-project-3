{
 "cells": [
  {
   "cell_type": "markdown",
   "metadata": {},
   "source": [
    "# Collaboration and Competition\n",
    "\n",
    "---\n",
    "\n",
    "You are welcome to use this coding environment to train your agent for the project.  Follow the instructions below to get started!\n",
    "\n",
    "### 1. Start the Environment\n"
   ]
  },
  {
   "cell_type": "markdown",
   "metadata": {},
   "source": [
    "The environment is already saved in the Workspace and can be accessed at the file path provided below. "
   ]
  },
  {
   "cell_type": "code",
   "execution_count": 1,
   "metadata": {},
   "outputs": [
    {
     "name": "stderr",
     "output_type": "stream",
     "text": [
      "INFO:unityagents:\n",
      "'Academy' started successfully!\n",
      "Unity Academy name: Academy\n",
      "        Number of Brains: 1\n",
      "        Number of External Brains : 1\n",
      "        Lesson number : 0\n",
      "        Reset Parameters :\n",
      "\t\t\n",
      "Unity brain name: TennisBrain\n",
      "        Number of Visual Observations (per agent): 0\n",
      "        Vector Observation space type: continuous\n",
      "        Vector Observation space size (per agent): 8\n",
      "        Number of stacked Vector Observation: 3\n",
      "        Vector Action space type: continuous\n",
      "        Vector Action space size (per agent): 2\n",
      "        Vector Action descriptions: , \n"
     ]
    }
   ],
   "source": [
    "%load_ext autoreload\n",
    "%autoreload 2\n",
    "\n",
    "import itertools\n",
    "from unityagents import UnityEnvironment\n",
    "import numpy as np\n",
    "import pandas as pd\n",
    "import torch\n",
    "from collections import namedtuple, deque\n",
    "\n",
    "env = UnityEnvironment(file_name=\"Tennis_Windows_x86_64/Tennis.exe\")"
   ]
  },
  {
   "cell_type": "markdown",
   "metadata": {},
   "source": [
    "Environments contain **_brains_** which are responsible for deciding the actions of their associated agents. Here we check for the first brain available, and set it as the default brain we will be controlling from Python."
   ]
  },
  {
   "cell_type": "code",
   "execution_count": 2,
   "metadata": {},
   "outputs": [],
   "source": [
    "# get the default brain\n",
    "brain_name = env.brain_names[0]\n",
    "brain = env.brains[brain_name]"
   ]
  },
  {
   "cell_type": "markdown",
   "metadata": {},
   "source": [
    "### 2. Examine the State and Action Spaces\n",
    "\n",
    "Run the code cell below to print some information about the environment."
   ]
  },
  {
   "cell_type": "code",
   "execution_count": 4,
   "metadata": {},
   "outputs": [
    {
     "name": "stdout",
     "output_type": "stream",
     "text": [
      "Number of agents: 2\n",
      "Size of each action: 2\n",
      "There are 2 agents. Each observes a state with length: 24\n",
      "The state for the first agent looks like: [ 0.          0.          0.          0.          0.          0.\n",
      "  0.          0.          0.          0.          0.          0.\n",
      "  0.          0.          0.          0.         -6.65278625 -1.5\n",
      " -0.          0.          6.83172083  6.         -0.          0.        ]\n"
     ]
    }
   ],
   "source": [
    "# reset the environment\n",
    "env_info = env.reset(train_mode=True)[brain_name]\n",
    "\n",
    "# number of agents \n",
    "num_agents = len(env_info.agents)\n",
    "print('Number of agents:', num_agents)\n",
    "\n",
    "# size of each action\n",
    "action_size = brain.vector_action_space_size\n",
    "print('Size of each action:', action_size)\n",
    "\n",
    "# examine the state space \n",
    "states = env_info.vector_observations\n",
    "state_size = states.shape[1]\n",
    "print('There are {} agents. Each observes a state with length: {}'.format(states.shape[0], state_size))\n",
    "print('The state for the first agent looks like:', states[0])"
   ]
  },
  {
   "cell_type": "markdown",
   "metadata": {},
   "source": [
    "### 3. Take Random Actions in the Environment\n",
    "\n",
    "In the next code cell, you will learn how to use the Python API to control the agent and receive feedback from the environment.\n",
    "\n",
    "Note that **in this coding environment, you will not be able to watch the agents while they are training**, and you should set `train_mode=True` to restart the environment."
   ]
  },
  {
   "cell_type": "code",
   "execution_count": null,
   "metadata": {},
   "outputs": [],
   "source": [
    "\n",
    "\n",
    "for i in range(5):                                         # play game for 5 episodes\n",
    "    env_info = env.reset(train_mode=False)[brain_name]     # reset the environment    \n",
    "    states = env_info.vector_observations                  # get the current state (for each agent)\n",
    "    scores = np.zeros(num_agents)                          # initialize the score (for each agent)\n",
    "    for i in itertools.count():\n",
    "        actions = np.random.randn(num_agents, action_size) # select an action (for each agent)\n",
    "        actions = np.clip(actions, -1, 1)                  # all actions between -1 and 1\n",
    "        env_info = env.step(actions)[brain_name]           # send all actions to tne environment\n",
    "        next_states = env_info.vector_observations         # get next state (for each agent)\n",
    "        rewards = env_info.rewards                         # get reward (for each agent)\n",
    "        dones = env_info.local_done                        # see if episode finished\n",
    "        scores += env_info.rewards                         # update the score (for each agent)\n",
    "        states = next_states                               # roll over states to next time step\n",
    "        if np.any(dones):                                 # exit loop if episode finished\n",
    "            print('ended after %s iterations' % i)\n",
    "            break\n",
    "    print('Total score (averaged over agents) this episode: {}'.format(np.mean(scores)))"
   ]
  },
  {
   "cell_type": "markdown",
   "metadata": {},
   "source": [
    "### 4. Train"
   ]
  },
  {
   "cell_type": "code",
   "execution_count": 8,
   "metadata": {
    "scrolled": false
   },
   "outputs": [
    {
     "name": "stdout",
     "output_type": "stream",
     "text": [
      "\r",
      "Episode 1\tAvg Left Score: 0.000\tAvg Right Score: -0.010\tAvg Max Score: 0.000\tLast Score: 0.000\r",
      "Episode 2\tAvg Left Score: -0.005\tAvg Right Score: -0.005\tAvg Max Score: 0.000\tLast Score: 0.000\r",
      "Episode 3\tAvg Left Score: -0.003\tAvg Right Score: -0.007\tAvg Max Score: 0.000\tLast Score: 0.000\r",
      "Episode 4\tAvg Left Score: -0.002\tAvg Right Score: -0.007\tAvg Max Score: 0.000\tLast Score: 0.000"
     ]
    },
    {
     "name": "stderr",
     "output_type": "stream",
     "text": [
      "C:\\Users\\z00110mk.AD001\\git\\deep-reinforcement-learning-project-3\\ddpg_agent.py:114: UserWarning: torch.nn.utils.clip_grad_norm is now deprecated in favor of torch.nn.utils.clip_grad_norm_.\n",
      "  torch.nn.utils.clip_grad_norm(self.critic_local.parameters(), GRAD_CLIP)\n"
     ]
    },
    {
     "name": "stdout",
     "output_type": "stream",
     "text": [
      "Episode 100\tAvg Left Score: 0.000\tAvg Right Score: -0.002\tAvg Max Score: 0.006\tLast Score: 0.100exploration scale: 0.5670636698003494\n",
      "Episode 100\tAvg Left Score: 0.000\tAvg Right Score: -0.002\tAvg Max Score: 0.006\n",
      "Episode 200\tAvg Left Score: 0.004\tAvg Right Score: -0.002\tAvg Max Score: 0.012\tLast Score: 0.000exploration scale: 0.3083288433677974\n",
      "Episode 200\tAvg Left Score: 0.004\tAvg Right Score: -0.002\tAvg Max Score: 0.012\n",
      "Episode 300\tAvg Left Score: 0.033\tAvg Right Score: 0.030\tAvg Max Score: 0.053\tLast Score: 0.100exploration scale: 0.10665891501555477\n",
      "Episode 300\tAvg Left Score: 0.033\tAvg Right Score: 0.030\tAvg Max Score: 0.053\n",
      "Episode 400\tAvg Left Score: 0.014\tAvg Right Score: 0.010\tAvg Max Score: 0.023\tLast Score: 0.100exploration scale: 0.050464079352414384\n",
      "Episode 400\tAvg Left Score: 0.014\tAvg Right Score: 0.010\tAvg Max Score: 0.023\n",
      "Episode 500\tAvg Left Score: 0.029\tAvg Right Score: 0.020\tAvg Max Score: 0.044\tLast Score: 0.100exploration scale: 0.018444356586939055\n",
      "Episode 500\tAvg Left Score: 0.029\tAvg Right Score: 0.020\tAvg Max Score: 0.044\n",
      "Episode 600\tAvg Left Score: 0.034\tAvg Right Score: 0.034\tAvg Max Score: 0.072\tLast Score: 0.100exploration scale: 0.006393159523966546\n",
      "Episode 600\tAvg Left Score: 0.034\tAvg Right Score: 0.034\tAvg Max Score: 0.072\n",
      "Episode 700\tAvg Left Score: 0.084\tAvg Right Score: 0.078\tAvg Max Score: 0.124\tLast Score: 0.190exploration scale: 0.0010814903049691017\n",
      "Episode 700\tAvg Left Score: 0.084\tAvg Right Score: 0.078\tAvg Max Score: 0.124\n",
      "Episode 800\tAvg Left Score: 0.063\tAvg Right Score: 0.058\tAvg Max Score: 0.102\tLast Score: 0.100exploration scale: 0.0002464984703252979\n",
      "Episode 800\tAvg Left Score: 0.063\tAvg Right Score: 0.058\tAvg Max Score: 0.102\n",
      "Episode 900\tAvg Left Score: 0.074\tAvg Right Score: 0.067\tAvg Max Score: 0.106\tLast Score: 0.100exploration scale: 4.613250176990502e-05\n",
      "Episode 900\tAvg Left Score: 0.074\tAvg Right Score: 0.067\tAvg Max Score: 0.106\n",
      "Episode 1000\tAvg Left Score: 0.103\tAvg Right Score: 0.101\tAvg Max Score: 0.141\tLast Score: 0.200exploration scale: 5.427331168453691e-06\n",
      "Episode 1000\tAvg Left Score: 0.103\tAvg Right Score: 0.101\tAvg Max Score: 0.141\n",
      "Episode 1100\tAvg Left Score: 0.154\tAvg Right Score: 0.146\tAvg Max Score: 0.184\tLast Score: 0.990exploration scale: 2.993920230536533e-07\n",
      "Episode 1100\tAvg Left Score: 0.154\tAvg Right Score: 0.146\tAvg Max Score: 0.184\n",
      "Episode 1200\tAvg Left Score: 1.528\tAvg Right Score: 1.516\tAvg Max Score: 1.550\tLast Score: 0.100exploration scale: 1.8124304379084288e-17\n",
      "Episode 1200\tAvg Left Score: 1.528\tAvg Right Score: 1.516\tAvg Max Score: 1.550\n",
      "Episode 1300\tAvg Left Score: 2.147\tAvg Right Score: 2.141\tAvg Max Score: 2.168\tLast Score: 2.700exploration scale: 1.0084818551185596e-31\n",
      "Episode 1300\tAvg Left Score: 2.147\tAvg Right Score: 2.141\tAvg Max Score: 2.168\n",
      "Episode 1308\tAvg Left Score: 2.118\tAvg Right Score: 2.112\tAvg Max Score: 2.138\tLast Score: 0.500"
     ]
    },
    {
     "ename": "KeyboardInterrupt",
     "evalue": "",
     "output_type": "error",
     "traceback": [
      "\u001b[1;31m---------------------------------------------------------------------------\u001b[0m",
      "\u001b[1;31mKeyboardInterrupt\u001b[0m                         Traceback (most recent call last)",
      "\u001b[1;32m<ipython-input-8-7322c6aeda0f>\u001b[0m in \u001b[0;36m<module>\u001b[1;34m\u001b[0m\n\u001b[0;32m     67\u001b[0m     \u001b[1;32mreturn\u001b[0m \u001b[0mscores\u001b[0m\u001b[1;33m\u001b[0m\u001b[1;33m\u001b[0m\u001b[0m\n\u001b[0;32m     68\u001b[0m \u001b[1;33m\u001b[0m\u001b[0m\n\u001b[1;32m---> 69\u001b[1;33m \u001b[0mscores\u001b[0m \u001b[1;33m=\u001b[0m \u001b[0mddpg\u001b[0m\u001b[1;33m(\u001b[0m\u001b[1;33m)\u001b[0m\u001b[1;33m\u001b[0m\u001b[1;33m\u001b[0m\u001b[0m\n\u001b[0m",
      "\u001b[1;32m<ipython-input-8-7322c6aeda0f>\u001b[0m in \u001b[0;36mddpg\u001b[1;34m(n_episodes, max_t)\u001b[0m\n\u001b[0;32m     39\u001b[0m \u001b[1;33m\u001b[0m\u001b[0m\n\u001b[0;32m     40\u001b[0m \u001b[1;33m\u001b[0m\u001b[0m\n\u001b[1;32m---> 41\u001b[1;33m             \u001b[0mleft_agent\u001b[0m\u001b[1;33m.\u001b[0m\u001b[0mstep\u001b[0m\u001b[1;33m(\u001b[0m \u001b[0mstates\u001b[0m\u001b[1;33m[\u001b[0m\u001b[1;36m0\u001b[0m\u001b[1;33m]\u001b[0m\u001b[1;33m,\u001b[0m \u001b[0mactions\u001b[0m\u001b[1;33m[\u001b[0m\u001b[1;36m0\u001b[0m\u001b[1;33m]\u001b[0m\u001b[1;33m,\u001b[0m \u001b[0mrewards\u001b[0m\u001b[1;33m[\u001b[0m\u001b[1;36m0\u001b[0m\u001b[1;33m]\u001b[0m\u001b[1;33m,\u001b[0m \u001b[0mnext_states\u001b[0m\u001b[1;33m[\u001b[0m\u001b[1;36m0\u001b[0m\u001b[1;33m]\u001b[0m\u001b[1;33m,\u001b[0m \u001b[0mdones\u001b[0m\u001b[1;33m[\u001b[0m\u001b[1;36m0\u001b[0m\u001b[1;33m]\u001b[0m\u001b[1;33m)\u001b[0m\u001b[1;33m\u001b[0m\u001b[1;33m\u001b[0m\u001b[0m\n\u001b[0m\u001b[0;32m     42\u001b[0m             \u001b[0mright_agent\u001b[0m\u001b[1;33m.\u001b[0m\u001b[0mstep\u001b[0m\u001b[1;33m(\u001b[0m\u001b[0mstates\u001b[0m\u001b[1;33m[\u001b[0m\u001b[1;36m1\u001b[0m\u001b[1;33m]\u001b[0m\u001b[1;33m,\u001b[0m \u001b[0mactions\u001b[0m\u001b[1;33m[\u001b[0m\u001b[1;36m1\u001b[0m\u001b[1;33m]\u001b[0m\u001b[1;33m,\u001b[0m \u001b[0mrewards\u001b[0m\u001b[1;33m[\u001b[0m\u001b[1;36m1\u001b[0m\u001b[1;33m]\u001b[0m\u001b[1;33m,\u001b[0m \u001b[0mnext_states\u001b[0m\u001b[1;33m[\u001b[0m\u001b[1;36m1\u001b[0m\u001b[1;33m]\u001b[0m\u001b[1;33m,\u001b[0m \u001b[0mdones\u001b[0m\u001b[1;33m[\u001b[0m\u001b[1;36m1\u001b[0m\u001b[1;33m]\u001b[0m\u001b[1;33m)\u001b[0m\u001b[1;33m\u001b[0m\u001b[1;33m\u001b[0m\u001b[0m\n\u001b[0;32m     43\u001b[0m \u001b[1;33m\u001b[0m\u001b[0m\n",
      "\u001b[1;32m~\\git\\deep-reinforcement-learning-project-3\\ddpg_agent.py\u001b[0m in \u001b[0;36mstep\u001b[1;34m(self, state, action, reward, next_state, done)\u001b[0m\n\u001b[0;32m     68\u001b[0m             \u001b[1;32mfor\u001b[0m \u001b[0m_\u001b[0m \u001b[1;32min\u001b[0m \u001b[0mrange\u001b[0m\u001b[1;33m(\u001b[0m\u001b[0mN_LEARN_UPDATES\u001b[0m\u001b[1;33m)\u001b[0m\u001b[1;33m:\u001b[0m\u001b[1;33m\u001b[0m\u001b[1;33m\u001b[0m\u001b[0m\n\u001b[0;32m     69\u001b[0m                 \u001b[0mexperiences\u001b[0m \u001b[1;33m=\u001b[0m \u001b[0mself\u001b[0m\u001b[1;33m.\u001b[0m\u001b[0mmemory\u001b[0m\u001b[1;33m.\u001b[0m\u001b[0msample\u001b[0m\u001b[1;33m(\u001b[0m\u001b[1;33m)\u001b[0m\u001b[1;33m\u001b[0m\u001b[1;33m\u001b[0m\u001b[0m\n\u001b[1;32m---> 70\u001b[1;33m                 \u001b[0mself\u001b[0m\u001b[1;33m.\u001b[0m\u001b[0mlearn\u001b[0m\u001b[1;33m(\u001b[0m\u001b[0mexperiences\u001b[0m\u001b[1;33m,\u001b[0m \u001b[0mGAMMA\u001b[0m\u001b[1;33m)\u001b[0m\u001b[1;33m\u001b[0m\u001b[1;33m\u001b[0m\u001b[0m\n\u001b[0m\u001b[0;32m     71\u001b[0m             \u001b[0mself\u001b[0m\u001b[1;33m.\u001b[0m\u001b[0mexploration_scale\u001b[0m \u001b[1;33m=\u001b[0m \u001b[0mself\u001b[0m\u001b[1;33m.\u001b[0m\u001b[0mexploration_scale\u001b[0m \u001b[1;33m*\u001b[0m \u001b[0mEXPLORATION_DECAY\u001b[0m\u001b[1;33m\u001b[0m\u001b[1;33m\u001b[0m\u001b[0m\n\u001b[0;32m     72\u001b[0m \u001b[1;33m\u001b[0m\u001b[0m\n",
      "\u001b[1;32m~\\git\\deep-reinforcement-learning-project-3\\ddpg_agent.py\u001b[0m in \u001b[0;36mlearn\u001b[1;34m(self, experiences, gamma)\u001b[0m\n\u001b[0;32m    110\u001b[0m         \u001b[0mcritic_loss\u001b[0m \u001b[1;33m=\u001b[0m \u001b[0mF\u001b[0m\u001b[1;33m.\u001b[0m\u001b[0mmse_loss\u001b[0m\u001b[1;33m(\u001b[0m\u001b[0mQ_expected\u001b[0m\u001b[1;33m,\u001b[0m \u001b[0mQ_targets\u001b[0m\u001b[1;33m)\u001b[0m\u001b[1;33m\u001b[0m\u001b[1;33m\u001b[0m\u001b[0m\n\u001b[0;32m    111\u001b[0m         \u001b[1;31m# Minimize the loss\u001b[0m\u001b[1;33m\u001b[0m\u001b[1;33m\u001b[0m\u001b[1;33m\u001b[0m\u001b[0m\n\u001b[1;32m--> 112\u001b[1;33m         \u001b[0mself\u001b[0m\u001b[1;33m.\u001b[0m\u001b[0mcritic_optimizer\u001b[0m\u001b[1;33m.\u001b[0m\u001b[0mzero_grad\u001b[0m\u001b[1;33m(\u001b[0m\u001b[1;33m)\u001b[0m\u001b[1;33m\u001b[0m\u001b[1;33m\u001b[0m\u001b[0m\n\u001b[0m\u001b[0;32m    113\u001b[0m         \u001b[0mcritic_loss\u001b[0m\u001b[1;33m.\u001b[0m\u001b[0mbackward\u001b[0m\u001b[1;33m(\u001b[0m\u001b[1;33m)\u001b[0m\u001b[1;33m\u001b[0m\u001b[1;33m\u001b[0m\u001b[0m\n\u001b[0;32m    114\u001b[0m         \u001b[0mtorch\u001b[0m\u001b[1;33m.\u001b[0m\u001b[0mnn\u001b[0m\u001b[1;33m.\u001b[0m\u001b[0mutils\u001b[0m\u001b[1;33m.\u001b[0m\u001b[0mclip_grad_norm\u001b[0m\u001b[1;33m(\u001b[0m\u001b[0mself\u001b[0m\u001b[1;33m.\u001b[0m\u001b[0mcritic_local\u001b[0m\u001b[1;33m.\u001b[0m\u001b[0mparameters\u001b[0m\u001b[1;33m(\u001b[0m\u001b[1;33m)\u001b[0m\u001b[1;33m,\u001b[0m \u001b[0mGRAD_CLIP\u001b[0m\u001b[1;33m)\u001b[0m\u001b[1;33m\u001b[0m\u001b[1;33m\u001b[0m\u001b[0m\n",
      "\u001b[1;32mc:\\users\\z00110mk.ad001\\git\\deep-reinforcement-learning-project-3\\venv\\lib\\site-packages\\torch\\optim\\optimizer.py\u001b[0m in \u001b[0;36mzero_grad\u001b[1;34m(self, set_to_none)\u001b[0m\n\u001b[0;32m    214\u001b[0m                             \u001b[1;32melse\u001b[0m\u001b[1;33m:\u001b[0m\u001b[1;33m\u001b[0m\u001b[1;33m\u001b[0m\u001b[0m\n\u001b[0;32m    215\u001b[0m                                 \u001b[0mp\u001b[0m\u001b[1;33m.\u001b[0m\u001b[0mgrad\u001b[0m\u001b[1;33m.\u001b[0m\u001b[0mrequires_grad_\u001b[0m\u001b[1;33m(\u001b[0m\u001b[1;32mFalse\u001b[0m\u001b[1;33m)\u001b[0m\u001b[1;33m\u001b[0m\u001b[1;33m\u001b[0m\u001b[0m\n\u001b[1;32m--> 216\u001b[1;33m                             \u001b[0mp\u001b[0m\u001b[1;33m.\u001b[0m\u001b[0mgrad\u001b[0m\u001b[1;33m.\u001b[0m\u001b[0mzero_\u001b[0m\u001b[1;33m(\u001b[0m\u001b[1;33m)\u001b[0m\u001b[1;33m\u001b[0m\u001b[1;33m\u001b[0m\u001b[0m\n\u001b[0m\u001b[0;32m    217\u001b[0m \u001b[1;33m\u001b[0m\u001b[0m\n\u001b[0;32m    218\u001b[0m     \u001b[1;32mdef\u001b[0m \u001b[0mstep\u001b[0m\u001b[1;33m(\u001b[0m\u001b[0mself\u001b[0m\u001b[1;33m,\u001b[0m \u001b[0mclosure\u001b[0m\u001b[1;33m)\u001b[0m\u001b[1;33m:\u001b[0m\u001b[1;33m\u001b[0m\u001b[1;33m\u001b[0m\u001b[0m\n",
      "\u001b[1;31mKeyboardInterrupt\u001b[0m: "
     ]
    }
   ],
   "source": [
    "from ddpg_agent import Agent \n",
    "\n",
    "left_agent = Agent(state_size=state_size, action_size=action_size, random_seed=10)\n",
    "right_agent = left_agent # Agent(state_size=state_size, action_size=action_size, random_seed=10)\n",
    "\n",
    "def ddpg(n_episodes=20000, max_t=3000):\n",
    "    left_scores_deque = deque(maxlen=100)\n",
    "    left_scores = []\n",
    "    right_scores_deque = deque(maxlen=100)\n",
    "    right_scores = []\n",
    "    max_scores_deque = deque(maxlen=100)\n",
    "    max_scores = []\n",
    "\n",
    "    for i_episode in range(1, n_episodes+1):\n",
    "        env_info = env.reset(train_mode=True)[brain_name] \n",
    "        states = env_info.vector_observations\n",
    "        left_agent.reset()\n",
    "        right_agent.reset()\n",
    "        left_score = 0\n",
    "        right_score = 0\n",
    "        for i in range(1, max_t):\n",
    "            \n",
    "            actions = np.concatenate([left_agent.act(states[0:1]), right_agent.act(states[1:2])])\n",
    "                \n",
    "            actions = np.clip(actions, -1, 1) \n",
    "            env_info = env.step(actions)[brain_name]           # send all actions to tne environment\n",
    "            \n",
    "            next_states = env_info.vector_observations         # get next state (for each agent)\n",
    "            rewards = env_info.rewards                        # get reward (for each agent)\n",
    "            joint_reward = np.sum(rewards) \n",
    "            dones = env_info.local_done                        # see if episode finished\n",
    "\n",
    "            left_score += rewards[0]\n",
    "            right_score+= rewards[1]\n",
    "            \n",
    "            \n",
    "            left_agent.step( states[0], actions[0], rewards[0], next_states[0], dones[0])\n",
    "            right_agent.step(states[1], actions[1], rewards[1], next_states[1], dones[1])\n",
    "\n",
    "            states = next_states\n",
    "            \n",
    "            if np.any(dones):\n",
    "                break\n",
    "\n",
    "        left_scores_deque.append(left_score)\n",
    "        left_scores.append(left_score)\n",
    "        right_scores_deque.append(right_score)\n",
    "        right_scores.append(right_score)\n",
    "        max_score = max(left_score, right_score)\n",
    "        max_scores_deque.append(max_score)\n",
    "        max_scores.append(max_score)\n",
    "        print('\\rEpisode {}\\tAvg Left Score: {:.3f}\\tAvg Right Score: {:.3f}\\tAvg Max Score: {:.3f}\\tLast Score: {:.3f}'\n",
    "             .format(i_episode, np.mean(left_scores_deque), np.mean(right_scores_deque), np.mean(max_scores_deque), max_score ), end=\"\")\n",
    "        if i_episode % 100 == 0:\n",
    "            # print(\"exploration scale: %s\" % left_agent.exploration_scale)\n",
    "            torch.save(left_agent.actor_local.state_dict(), 'left_checkpoint_actor.pth')\n",
    "            torch.save(left_agent.critic_local.state_dict(), 'left_checkpoint_critic.pth')\n",
    "            torch.save(right_agent.actor_local.state_dict(), 'right_checkpoint_actor.pth')\n",
    "            torch.save(right_agent.critic_local.state_dict(), 'right_checkpoint_critic.pth')\n",
    "            print('\\rEpisode {}\\tAvg Left Score: {:.3f}\\tAvg Right Score: {:.3f}\\tAvg Max Score: {:.3f}'\n",
    "                   .format(i_episode, np.mean(left_scores_deque), np.mean(right_scores_deque), np.mean(max_scores_deque)))\n",
    "    return scores\n",
    "\n",
    "scores = ddpg()"
   ]
  },
  {
   "cell_type": "markdown",
   "metadata": {},
   "source": [
    "When finished, you can close the environment."
   ]
  },
  {
   "cell_type": "code",
   "execution_count": null,
   "metadata": {},
   "outputs": [],
   "source": [
    "env.close()"
   ]
  },
  {
   "cell_type": "code",
   "execution_count": null,
   "metadata": {},
   "outputs": [],
   "source": []
  }
 ],
 "metadata": {
  "kernelspec": {
   "display_name": "Python 3",
   "language": "python",
   "name": "python3"
  },
  "language_info": {
   "codemirror_mode": {
    "name": "ipython",
    "version": 3
   },
   "file_extension": ".py",
   "mimetype": "text/x-python",
   "name": "python",
   "nbconvert_exporter": "python",
   "pygments_lexer": "ipython3",
   "version": "3.6.8"
  }
 },
 "nbformat": 4,
 "nbformat_minor": 2
}
